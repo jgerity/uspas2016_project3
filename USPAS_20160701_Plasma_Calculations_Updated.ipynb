{
 "cells": [
  {
   "cell_type": "code",
   "execution_count": 5,
   "metadata": {
    "collapsed": false
   },
   "outputs": [
    {
     "name": "stdout",
     "output_type": "stream",
     "text": [
      "Given Laser Parameter Assumptions from Class\n",
      "    power [TW]: 379\n",
      "    wavelength [m]: 7.8e-07\n",
      "    pulse duration [s]: 5e-14\n",
      "\n",
      "Chosen/Caculated Laser Parameters As Per Table from Class\n",
      "    a0 chosen: 2.1\n",
      "    spot size chosen [m^2]: 3.8e-09\n",
      "    intensity chosen [W/cm^2]: 9.93e+18\n",
      "\n",
      "Calculate other laser parameters to confirm:\n",
      "    energy per pulse [J]: 20.0\n",
      "    intensity calculated from power and spot size [W/cm^2]: 1.99473684211e+19\n",
      "    intensity from spotsize and power ans Strehl [W/cm^2]: 9.97368421053e+18\n",
      "    a0 calc from intensity: 2.09382960022\n",
      "    a0 calc from intensity second method: 2.10005494214\n",
      "    a0 calc from intensity third method: 2.09994994727\n"
     ]
    }
   ],
   "source": [
    "##INITIAL SETUP###\n",
    "import numpy as np\n",
    "\n",
    "#Laser givens\n",
    "power_l=379 #TW\n",
    "lambda_l=780*10**-9 #m\n",
    "pulse_dur_l=50*10**-15 #s\n",
    "f_l=float(299792458)/lambda_l #Hz\n",
    "w_l=2*3.14159*f_l #rad/sec\n",
    "\n",
    "print('Given Laser Parameter Assumptions from Class')\n",
    "print('    power [TW]: ' + str(power_l))\n",
    "print('    wavelength [m]: '+ str(lambda_l))\n",
    "print('    pulse duration [s]: ' + str(pulse_dur_l))\n",
    "print('')\n",
    "\n",
    "#Chosen parameters as per table from class\n",
    "spotsize_c=3.8*10**-9 #(meters squared)\n",
    "a0_c=2.1\n",
    "I_c=9.93*10**18 #(W/cm**2)\n",
    "\n",
    "print('Chosen/Caculated Laser Parameters As Per Table from Class')\n",
    "print('    a0 chosen: ' + str(a0_c))\n",
    "print('    spot size chosen [m^2]: ' + str(spotsize_c))\n",
    "print('    intensity chosen [W/cm^2]: '+ str(I_c))\n",
    "print('')\n",
    "\n",
    "\n",
    "###CALCULATION OF OTHER LASER PARAMETERS###\n",
    "print('Calculate other laser parameters to confirm:')\n",
    "#  get laser energy per pulse from P=energy/time\n",
    "En_per_pulse_l=(400*10**12)*pulse_dur_l\n",
    "print('    energy per pulse [J]: '+ str(En_per_pulse_l))\n",
    "\n",
    "\n",
    "##Power and Intensity\n",
    "#P=pi*r**2 * I / 2 = A *I/2 for a gaussian radial profile, linearly polarized field\n",
    "I_calc=float(2*power_l*10**12)/(spotsize_c*(100**2))\n",
    "print('    intensity calculated from power and spot size [W/cm^2]: '+ str(I_calc))\n",
    "\n",
    "#Another approximation to consider:\n",
    "Strehl=0.5\n",
    "Int_Gaussian=(float(2*power_l*10**12)/(spotsize_c*(100)**2))*Strehl\n",
    "print('    intensity from spotsize and power and Strehl [W/cm^2]: '+ str(Int_Gaussian))\n",
    "\n",
    "\n",
    "##Calculate a0\n",
    "#get a0 from laser intensity in W/cm**2\n",
    "a0_gaussian=(8.5*10**-10)*lambda_l*(10**6)*np.sqrt(Int_Gaussian)\n",
    "print('    a0 calc from intensity: ' + str(a0_gaussian))\n",
    "\n",
    "#a0=sqrt(7.3*10^-19 * lambda[um]**2  * I [W/cm**2]), eqn 3 in Esarey\n",
    "#need a>2 for self guiding\n",
    "a0_calc_2=np.sqrt((7.3*10**-19)*((lambda_l*(10**6))**2)*I_c)\n",
    "print('    a0 calc from intensity second method: ' + str(a0_calc_2))\n",
    "\n",
    "#cross check with other approximation from class notes and Seryi eqn. 6.25\n",
    "a0_calc_3=(lambda_l*10**6)*((float(I_c)/(1.37*10**18))**(0.5))\n",
    "print('    a0 calc from intensity third method: ' + str(a0_calc_3))\n",
    "\n",
    "#CHOOSE a0 to be the one from the class calculations (empirical + more widely accepted)\n",
    "a0=a0_calc_3\n",
    "\n",
    "#max electric field from laser in V/cm\n",
    "#E_max=(2.75*10**9)*np.sqrt((I/(10**16))) #I in W/cm**2\n",
    "#max magnetic field from laser in Gauss\n",
    "#B_max=(9.2*10**6)*np.sqrt((I/(10**16))) #I in W/cm**2\n"
   ]
  },
  {
   "cell_type": "code",
   "execution_count": 58,
   "metadata": {
    "collapsed": false
   },
   "outputs": [
    {
     "name": "stdout",
     "output_type": "stream",
     "text": [
      "Calculation of Plasma Parameters\n",
      "    critical density (need to be below this denisity) from other appx: 1.28205128205e+21\n",
      "    critical density (need to be below this denisity) from class: 1.83109632987e+21\n",
      "    chosen gas density (from class)[cm^-3]: 1.75e+17\n",
      "\n",
      "    calculated lambda_p from Esarey[m]: 7.88850882161e-06\n",
      "    calculated lambda_p from class notes[m]: 7.55928946018e-05\n",
      "    lambda_p from class [m]: 7.6e-05\n",
      "\n",
      "    plasma frequency [Hz]: 3.965881444e+12\n",
      "    plasma angular frequency [rad/sec]: 2.49183469713e+13\n",
      "\n",
      "    check that short pulse condition is met: 5e-14 < 1.26075377456e-13\n"
     ]
    }
   ],
   "source": [
    "##CALCULATION OF PLASMA PARAMETERS##\n",
    "print('Calculation of Plasma Parameters')\n",
    "#get plasma parameters\n",
    "ncrit_1=float(10**21)/(lambda_l*10**6) #lambda in um, ncrit in cm**-3, need to be below this density\n",
    "#the above is from the older appx from csu\n",
    "print('    critical density (need to be below this denisity) from other appx: ' + str(ncrit_1))\n",
    "\n",
    "re=2.82*(10**-15) #m\n",
    "ncrit_2=float(w_l**2)/((4*3.14159*(299792458**2))*re)\n",
    "ncrit_2=float(ncrit_2)/(100**3)\n",
    "print('    critical density (need to be below this denisity) from class: ' + str(ncrit_2))\n",
    "\n",
    "#other ncrit approximation\n",
    "#ncrit2= #cm^-3\n",
    "\n",
    "##CHOOSE GAS DENSITY\n",
    "n_c=float(1.75*10**17) #cm**-3 FROM TABLE FROM CLASS\n",
    "print('    chosen gas density (from class)[cm^-3]: ' + str(n_c))\n",
    "print('')\n",
    "\n",
    "#calculate plasma frequency fp and wp, plasma wavelength lambda_p\n",
    "lambda_p_1=0.33*10.**10/np.sqrt(n_c) # in um, with n in cm^-3, eqn 2 in Esarey\n",
    "lambda_p_1=float(lambda_p_1)/(10**6) # m\n",
    "\n",
    "lambda_p_2=0.1*np.sqrt((10.**17)/n_c) #0.1 in mm, lp in mm, equation from class and eqn. 6.5 in Seryi\n",
    "lambda_p_2=float(lambda_p_2)/(10.**3) #m\n",
    "\n",
    "print('    calculated lambda_p from Esarey[m]: ' + str(lambda_p_1))\n",
    "print('    calculated lambda_p from class notes[m]: '+ str(lambda_p_2))\n",
    "print('    lambda_p from class [m]: '+ str(76*10**-6))\n",
    "\n",
    "#CHOOSE LAMBDA_P CALCULATED FROM CLASS\n",
    "lambda_p=lambda_p_2\n",
    "\n",
    "\n",
    "#Calculate angular frequency and frequency from lambda_p\n",
    "f_p=float(299792458)/lambda_p #Hz\n",
    "w_p=2*3.14159*f_p #rad/sec\n",
    "\n",
    "\n",
    "print('')\n",
    "\n",
    "print('    plasma frequency [Hz]: ' + str(f_p))\n",
    "print('    plasma angular frequency [rad/sec]: ' + str(w_p))\n",
    "\n",
    "print('')\n",
    "\n",
    "#check condition that laser pulse duration<pi/w_p for bubble regime\n",
    "print('    check that short pulse condition is met: '+ str(pulse_dur_l) + ' < ' + str(3.14159/w_p))\n"
   ]
  },
  {
   "cell_type": "code",
   "execution_count": 54,
   "metadata": {
    "collapsed": false
   },
   "outputs": [
    {
     "name": "stdout",
     "output_type": "stream",
     "text": [
      "Calculation of Parameters Relevant to Acceleration Length\n",
      "    depletion length from class [m]: 0.169049847205\n",
      "    depletion length from Esarey [m]: 0.671163232287\n",
      "    dephasing length from class[m]: 0.354996217723\n",
      "    dephasing length from Esarey[m]: 0.335581616144\n"
     ]
    }
   ],
   "source": [
    "##CALCULATION OF PARAMETERS RELEVANT TO ACCELERATION LENGTH##\n",
    "print('Calculation of Parameters Relevant to Acceleration Length')\n",
    "\n",
    "\n",
    "#calculate depletion length using equations from class (conservative/empirical)\n",
    "L_depl_1=float((1./(2*a0))*(lambda_p**3))/(lambda_l**2) #report in m\n",
    "print('    depletion length from class [m]: ' + str(L_depl_1))\n",
    "\n",
    "#from esarey 2009, eqn 54 for n^2>>1\n",
    "L_depl_2=((float(lambda_p**3)/(lambda_l**2))*(float(np.sqrt(2))/3.14159)*a0)\n",
    "print('    depletion length from Esarey [m]: ' + str(L_depl_2))\n",
    "\n",
    "#calculate dephasing length using equations from class (conservative/empirical)\n",
    "L_deph_1=float((1./2)*(lambda_p**3))/(lambda_l**2) #report in m\n",
    "print('    dephasing length from class[m]: ' + str(L_deph_1))\n",
    "\n",
    "#from esarey 2009, eqn 53, a^2>>1, but will be limited by L_depl in this regime according to Esarey\n",
    "NP=1 #just a guess\n",
    "L_deph_2=((float(lambda_p**3)/(2*(lambda_l**2)))*(float(np.sqrt(2))/3.14159)*a0)/NP\n",
    "print('    dephasing length from Esarey[m]: ' + str(L_deph_2))\n",
    "\n",
    "##need to look at rayleigh length and diffraction as well\n"
   ]
  },
  {
   "cell_type": "code",
   "execution_count": 56,
   "metadata": {
    "collapsed": false
   },
   "outputs": [
    {
     "name": "stdout",
     "output_type": "stream",
     "text": [
      "    accelerating gradient [GeV/cm]: 0.418330013267\n",
      "    accelerating gradient (appx used in class) [GeV/cm]: 0.8784720893\n",
      "    length for 1 GeV [cm]: 2.39045721867\n",
      "    length for 3 GeV [cm]: 7.17137165601\n",
      "129.250681311\n",
      "39.7570373668\n"
     ]
    }
   ],
   "source": [
    "##CALCULATION OF ENERGY GAIN AND REQUIRED LENGTH##\n",
    "\n",
    "#desired output electron energy\n",
    "En_1=1. #GeV\n",
    "En_3=3. #GeV\n",
    "\n",
    "#Max accl gradient= (1GeV/cm )* ((n/10^18)^1/2) n in cm^-3 from Seryi pg. 106\n",
    "gradient=(float(n_c)/(10**18))**0.5 # in GeV/cm\n",
    "print('    accelerating gradient [GeV/cm]: '+str(gradient))\n",
    "\n",
    "#Approximation used previously in class (where was this from?)\n",
    "print('    accelerating gradient (appx used in class) [GeV/cm]: '+ str(float(np.sqrt(n_c*(a0**2)))/1e9))\n",
    "\n",
    "#CHOOSE plasma length based on output electron energy\n",
    "length_En1=En_1/gradient # in cm, gradient in GeV/cm\n",
    "length_En3=En_3/gradient\n",
    "\n",
    "print('    length for 1 GeV [cm]: '+str(length_En1))\n",
    "print('    length for 3 GeV [cm]: '+str(length_En3))\n",
    "\n",
    "\n",
    "\n",
    "\n"
   ]
  },
  {
   "cell_type": "code",
   "execution_count": 57,
   "metadata": {
    "collapsed": false
   },
   "outputs": [
    {
     "name": "stdout",
     "output_type": "stream",
     "text": [
      "    critical laser power for self-focusing [W]: 1.63426317272e+14\n"
     ]
    }
   ],
   "source": [
    "##MISCELLANEOUS OTHER PARAMETERS TO CHECK##\n",
    "#critical power for self-focusing\n",
    "P_crit=(17.4*10**9)*(float(w_l**2)/(w_p**2)) #in Watts, #eqn. 88 in esarey p=17.4*(w/wp)^2 GW\n",
    "\n",
    "print('    critical laser power for self-focusing [W]: ' + str(P_crit))\n",
    "\n",
    "#bubble size from class\n",
    "#rb=3.49*10**-5\n",
    "\n",
    "#HOW TO CALCULATE CHARGE, ETC?"
   ]
  },
  {
   "cell_type": "code",
   "execution_count": null,
   "metadata": {
    "collapsed": true
   },
   "outputs": [],
   "source": []
  }
 ],
 "metadata": {
  "kernelspec": {
   "display_name": "Python 2",
   "language": "python",
   "name": "python2"
  },
  "language_info": {
   "codemirror_mode": {
    "name": "ipython",
    "version": 2
   },
   "file_extension": ".py",
   "mimetype": "text/x-python",
   "name": "python",
   "nbconvert_exporter": "python",
   "pygments_lexer": "ipython2",
   "version": "2.7.10"
  }
 },
 "nbformat": 4,
 "nbformat_minor": 0
}
