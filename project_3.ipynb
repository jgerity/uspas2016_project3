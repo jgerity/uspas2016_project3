{
 "cells": [
  {
   "cell_type": "markdown",
   "metadata": {},
   "source": [
    "# Import my personal printing object"
   ]
  },
  {
   "cell_type": "code",
   "execution_count": 2,
   "metadata": {
    "collapsed": true
   },
   "outputs": [],
   "source": [
    "from parameters import ParameterContainer"
   ]
  },
  {
   "cell_type": "markdown",
   "metadata": {},
   "source": [
    "# Import and name constants"
   ]
  },
  {
   "cell_type": "code",
   "execution_count": 3,
   "metadata": {
    "collapsed": true
   },
   "outputs": [],
   "source": [
    "import numpy as np\n",
    "from scipy import constants\n",
    "c = constants.physical_constants[\"speed of light in vacuum\"][0] #m/sec by default\n",
    "e = constants.physical_constants[\"elementary charge\"][0] #m/sec by default\n",
    "m_e_c2 = constants.physical_constants[\"electron mass energy equivalent in MeV\"][0]*10**-3 #in GeV\n",
    "r_e = constants.physical_constants[\"classical electron radius\"][0]#in m\n",
    "h_bar = constants.physical_constants[\"Planck constant over 2 pi in eV s\"][0] #in eV s"
   ]
  },
  {
   "cell_type": "markdown",
   "metadata": {},
   "source": [
    "# Name and assign input parameters"
   ]
  },
  {
   "cell_type": "code",
   "execution_count": 4,
   "metadata": {
    "collapsed": true
   },
   "outputs": [],
   "source": [
    "electron_energy = 1. #energy of the beam in GeV"
   ]
  },
  {
   "cell_type": "markdown",
   "metadata": {},
   "source": [
    "# Calculate and store derived parameters"
   ]
  },
  {
   "cell_type": "code",
   "execution_count": 5,
   "metadata": {
    "collapsed": false
   },
   "outputs": [],
   "source": [
    "electron_kinetic_energy = (electron_energy - m_e_c2)*10**9 #in eV\n",
    "electron_momentum = np.sqrt(electron_energy**2 - m_e_c2**2)*10**9/c #in eV/c\n",
    "electron_gamma = electron_kinetic_energy/(m_e_c2*10**9) + 1"
   ]
  },
  {
   "cell_type": "markdown",
   "metadata": {},
   "source": [
    "# Ring/turn parameters storing and reporting"
   ]
  },
  {
   "cell_type": "code",
   "execution_count": 6,
   "metadata": {
    "collapsed": false
   },
   "outputs": [
    {
     "name": "stdout",
     "output_type": "stream",
     "text": [
      "electron energy = 1.0 GeV\n",
      "turn quadrupole B = 1.0 T\n",
      "rho = 3.33564051648 m\n",
      "length of bend = 5.2396118708 m\n",
      "synchrotron energy loss per turn = 26.5204657704 keV\n",
      "energy of sychrotron emitted photon = 0.665025765843 keV\n"
     ]
    }
   ],
   "source": [
    "quad_B = 1. #magnetic field in the turns in T\n",
    "\n",
    "ring_parameters = ParameterContainer()\n",
    "ring_parameters.addParameter(\"electron energy\",electron_energy,\"GeV\")\n",
    "ring_parameters.addParameter(\"turn quadrupole B\",quad_B,\"T\")\n",
    "rho = ring_parameters.addParameter(\"rho\",electron_momentum/quad_B,\"m\").value()\n",
    "L_bend = ring_parameters.addParameter(\"length of bend\",np.pi/2.*rho,\"m\")\n",
    "U0 = ring_parameters.addParameter(\"synchrotron energy loss per turn\",4.*np.pi/3.*r_e*electron_gamma**4/rho*m_e_c2*10**6,\"keV\")\n",
    "E_photon = ring_parameters.addParameter(\"energy of sychrotron emitted photon\",h_bar*3./2.*c*electron_gamma**3/rho/1000,\"keV\")\n",
    "\n",
    "print(str(ring_parameters))\n"
   ]
  },
  {
   "cell_type": "markdown",
   "metadata": {},
   "source": [
    "# Doublet parameters storing and reporting "
   ]
  },
  {
   "cell_type": "code",
   "execution_count": 7,
   "metadata": {
    "collapsed": false
   },
   "outputs": [
    {
     "name": "stdout",
     "output_type": "stream",
     "text": [
      "Quad length = 0.1 m\n",
      "Quad gradient 1 = 50.0 T/m\n",
      "Quad gradient 2 = 100.0 T/m\n",
      "K1 = 14.989624857 1/m^2\n",
      "K2 = 29.9792497141 1/m^2\n",
      "f1 = 0.667128103296 m\n",
      "f2 = 0.333564051648 m\n",
      "Post quad drift = 0.471730805761 m\n",
      "Quad spacing = 0.471730805761 m\n",
      "Doublet focus = 0.943461611522 m\n"
     ]
    }
   ],
   "source": [
    "G1 = 50. #Magnetic field gradient for the first doublet quad in T/m.\n",
    "G2 = 100. #Magnetic field gradient for the second doublet quad in T/m.\n",
    "L_quad = 0.10 #Length of the doublet quads in m.\n",
    "\n",
    "doublet_parameters = ParameterContainer()\n",
    "doublet_parameters.addParameter(\"Quad length\",L_quad,\"m\")\n",
    "doublet_parameters.addParameter(\"Quad gradient 1\",G1,\"T/m\")\n",
    "doublet_parameters.addParameter(\"Quad gradient 2\",G2,\"T/m\")\n",
    "K1 = doublet_parameters.addParameter(\"K1\",G1/electron_momentum,\"1/m^2\").value()\n",
    "K2 = doublet_parameters.addParameter(\"K2\",G2/electron_momentum,\"1/m^2\").value()\n",
    "f1 = doublet_parameters.addParameter(\"f1\",electron_momentum/(G1*L_quad),\"m\").value()\n",
    "f2 = doublet_parameters.addParameter(\"f2\",electron_momentum/(G2*L_quad),\"m\").value()\n",
    "d = doublet_parameters.addParameter(\"Post quad drift\",np.sqrt(f2**2 * f1 / (f1-f2)),\"m\").value()\n",
    "quad_spacing = doublet_parameters.addParameter(\"Quad spacing\",f2 * f1 / d,\"m\").value()\n",
    "doublet_parameters.addParameter(\"Doublet focus\",d + quad_spacing,\"m\")\n",
    "\n",
    "print str(doublet_parameters)"
   ]
  },
  {
   "cell_type": "markdown",
   "metadata": {},
   "source": [
    "# Laser parameters"
   ]
  },
  {
   "cell_type": "code",
   "execution_count": 12,
   "metadata": {
    "collapsed": true
   },
   "outputs": [],
   "source": [
    "laser_parameters = ParameterContainer()\n",
    "laser_wavelength = laser_parameters.addParameter(\"wavelength\",780,\"nm\").value()"
   ]
  },
  {
   "cell_type": "markdown",
   "metadata": {},
   "source": [
    "# Plasma parameters"
   ]
  },
  {
   "cell_type": "code",
   "execution_count": 13,
   "metadata": {
    "collapsed": false
   },
   "outputs": [
    {
     "name": "stdout",
     "output_type": "stream",
     "text": [
      "a_0 = 2.5 \n",
      "plasma density = 3e+17 cm^-3\n",
      "Max E field = 2.16506350946 GV/cm\n",
      "plasma wavelength = 0.057735026919 mm\n",
      "depletion length = 6.32643292998 cm\n",
      "dephasing length = 1.58160823249 cm\n",
      "maximum energy possible = 3.42428227044 GeV\n"
     ]
    }
   ],
   "source": [
    "plasma_parameters = ParameterContainer()\n",
    "a_0 = plasma_parameters.addParameter(\"a_0\",2.5, \"\").value()\n",
    "n = plasma_parameters.addParameter(\"plasma density\",3e17,\"cm^-3\").value()\n",
    "E_max = plasma_parameters.addParameter(\"Max E field\",np.sqrt(n * a_0**3)/1e9,\"GV/cm\").value()\n",
    "plasma_wavelength = plasma_parameters.addParameter(\"plasma wavelength\",0.1*np.sqrt(1e17/n),\"mm\").value()\n",
    "L_p = plasma_parameters.addParameter(\"depletion length\",0.5 / a_0 * plasma_wavelength**3 / (laser_wavelength*1e-6)**2/10,\"cm\").value()\n",
    "L_d = plasma_parameters.addParameter(\"dephasing length\",L_p*a_0/10,\"cm\").value()\n",
    "max_energy = plasma_parameters.addParameter(\"maximum energy possible\",E_max*np.min([L_p,L_d]),\"GeV\").value()\n",
    "\n",
    "print plasma_parameters"
   ]
  },
  {
   "cell_type": "code",
   "execution_count": null,
   "metadata": {
    "collapsed": true
   },
   "outputs": [],
   "source": []
  }
 ],
 "metadata": {
  "kernelspec": {
   "display_name": "Python 2",
   "language": "python",
   "name": "python2"
  },
  "language_info": {
   "codemirror_mode": {
    "name": "ipython",
    "version": 2
   },
   "file_extension": ".py",
   "mimetype": "text/x-python",
   "name": "python",
   "nbconvert_exporter": "python",
   "pygments_lexer": "ipython2",
   "version": "2.7.11"
  }
 },
 "nbformat": 4,
 "nbformat_minor": 0
}
