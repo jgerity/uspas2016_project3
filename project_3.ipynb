{
 "cells": [
  {
   "cell_type": "markdown",
   "metadata": {},
   "source": [
    "# Import my personal printing object"
   ]
  },
  {
   "cell_type": "code",
   "execution_count": 5,
   "metadata": {
    "collapsed": false
   },
   "outputs": [],
   "source": [
    "from parameters import ParameterContainer, ParameterColumn, ParameterTable"
   ]
  },
  {
   "cell_type": "markdown",
   "metadata": {},
   "source": [
    "# Import and name constants"
   ]
  },
  {
   "cell_type": "code",
   "execution_count": 6,
   "metadata": {
    "collapsed": true
   },
   "outputs": [],
   "source": [
    "import numpy as np\n",
    "from scipy import constants\n",
    "c = constants.physical_constants[\"speed of light in vacuum\"][0] #m/sec by default\n",
    "e = constants.physical_constants[\"elementary charge\"][0] #m/sec by default\n",
    "m_e_c2 = constants.physical_constants[\"electron mass energy equivalent in MeV\"][0]*10**-3 #in GeV\n",
    "r_e = constants.physical_constants[\"classical electron radius\"][0]#in m\n",
    "h_bar = constants.physical_constants[\"Planck constant over 2 pi in eV s\"][0] #in eV s\n",
    "alpha = constants.physical_constants[\"fine-structure constant\"][0] #no units"
   ]
  },
  {
   "cell_type": "markdown",
   "metadata": {},
   "source": [
    "# Name and assign input parameters"
   ]
  },
  {
   "cell_type": "code",
   "execution_count": 35,
   "metadata": {
    "collapsed": false
   },
   "outputs": [],
   "source": [
    "column1 = ParameterContainer()\n",
    "column1.addParameter(\"E\",1.,\"GeV\")\n",
    "column1.addParameter(\"B\",1.5,\"T\")\n",
    "\n",
    "column2 = ParameterContainer()\n",
    "column2.addParameter(\"E\",1.,\"GeV\")\n",
    "column2.addParameter(\"B\",10.,\"T\")\n",
    "\n",
    "column3 = ParameterContainer()\n",
    "column3.addParameter(\"E\",3.,\"GeV\")\n",
    "column3.addParameter(\"B\",10.,\"T\")\n",
    "\n",
    "table = ParameterTable()\n",
    "table.addColumn(ParameterColumn(column1))\n",
    "table.addColumn(ParameterColumn(column2))\n",
    "table.addColumn(ParameterColumn(column3))"
   ]
  },
  {
   "cell_type": "markdown",
   "metadata": {},
   "source": [
    "# Calculate and store derived parameters"
   ]
  },
  {
   "cell_type": "code",
   "execution_count": 36,
   "metadata": {
    "collapsed": false
   },
   "outputs": [
    {
     "data": {
      "text/markdown": [
       "|  | E = 1.0 GeV,B = 1.5 T | E = 1.0 GeV,B = 10.0 T | E = 3.0 GeV,B = 10.0 T |"
      ],
      "text/plain": [
       "<IPython.core.display.Markdown object>"
      ]
     },
     "metadata": {},
     "output_type": "display_data"
    },
    {
     "data": {
      "text/markdown": [
       "| :-: | :-: | :-: | :-: |"
      ],
      "text/plain": [
       "<IPython.core.display.Markdown object>"
      ]
     },
     "metadata": {},
     "output_type": "display_data"
    },
    {
     "data": {
      "text/markdown": [
       "| electron kinetic energy (eV) | 999489001.054 | 999489001.054 | 2999489001.05 |"
      ],
      "text/plain": [
       "<IPython.core.display.Markdown object>"
      ]
     },
     "metadata": {},
     "output_type": "display_data"
    },
    {
     "data": {
      "text/markdown": [
       "| electron momentum (eV/c) | 3.33564051648 | 3.33564051648 | 10.0069227108 |"
      ],
      "text/plain": [
       "<IPython.core.display.Markdown object>"
      ]
     },
     "metadata": {},
     "output_type": "display_data"
    },
    {
     "data": {
      "text/markdown": [
       "| electron gamma | 1956.95119849 | 1956.95119849 | 5870.85359548 |"
      ],
      "text/plain": [
       "<IPython.core.display.Markdown object>"
      ]
     },
     "metadata": {},
     "output_type": "display_data"
    },
    {
     "data": {
      "text/markdown": [
       "| beam charge (C) | 1e-11 | 1e-11 | 7e-12 |"
      ],
      "text/plain": [
       "<IPython.core.display.Markdown object>"
      ]
     },
     "metadata": {},
     "output_type": "display_data"
    },
    {
     "data": {
      "text/markdown": [
       "| number electrons | 62415091.2588 | 62415091.2588 | 43690563.8812 |"
      ],
      "text/plain": [
       "<IPython.core.display.Markdown object>"
      ]
     },
     "metadata": {},
     "output_type": "display_data"
    }
   ],
   "source": [
    "for column in table:\n",
    "    electron_energy = column.header_parameters.getParameter(\"E\").value()\n",
    "    derived_parameters = ParameterContainer()\n",
    "    electron_kinetic_energy = derived_parameters.addParameter(\"electron kinetic energy\",(electron_energy - m_e_c2)*10**9,\"eV\").value()\n",
    "    derived_parameters.addParameter(\"electron momentum\",np.sqrt(electron_energy**2 - m_e_c2**2)*10**9/c,\"eV/c\")\n",
    "    derived_parameters.addParameter(\"electron gamma\",electron_kinetic_energy/(m_e_c2*10**9) + 1)\n",
    "    if electron_energy == 1.:\n",
    "        electron_charge = derived_parameters.addParameter(\"beam charge\",10e-12,\"C\").value()\n",
    "    elif electron_energy == 3.0:\n",
    "        electron_charge = derived_parameters.addParameter(\"beam charge\",7e-12,\"C\").value()\n",
    "    else:\n",
    "        raise Exception(\"You need to pick an electron charge for your pulse.\")\n",
    "    derived_parameters.addParameter(\"number electrons\",electron_charge/e)\n",
    "    column.associateParameterContainer(\"Derived\",derived_parameters)\n",
    "\n",
    "table.printTable(\"Derived\")"
   ]
  },
  {
   "cell_type": "markdown",
   "metadata": {},
   "source": [
    "# Ring/turn/magnet parameters"
   ]
  },
  {
   "cell_type": "code",
   "execution_count": 97,
   "metadata": {
    "collapsed": false
   },
   "outputs": [
    {
     "data": {
      "text/markdown": [
       "|  | E = 1.0 GeV,B = 1.5 T | E = 1.0 GeV,B = 10.0 T | E = 3.0 GeV,B = 10.0 T |"
      ],
      "text/plain": [
       "<IPython.core.display.Markdown object>"
      ]
     },
     "metadata": {},
     "output_type": "display_data"
    },
    {
     "data": {
      "text/markdown": [
       "| :-: | :-: | :-: | :-: |"
      ],
      "text/plain": [
       "<IPython.core.display.Markdown object>"
      ]
     },
     "metadata": {},
     "output_type": "display_data"
    },
    {
     "data": {
      "text/markdown": [
       "| rho (m) | 2.22376034432 | 0.333564051648 | 1.00069227108 |"
      ],
      "text/plain": [
       "<IPython.core.display.Markdown object>"
      ]
     },
     "metadata": {},
     "output_type": "display_data"
    },
    {
     "data": {
      "text/markdown": [
       "| Perimeter (m) | 18.9722983221 | 7.09584474832 | 11.2875349746 |"
      ],
      "text/plain": [
       "<IPython.core.display.Markdown object>"
      ]
     },
     "metadata": {},
     "output_type": "display_data"
    },
    {
     "data": {
      "text/markdown": [
       "| Time per revolution (sec) | 6.32847752365e-08 | 2.36691903314e-08 | 3.76511639083e-08 |"
      ],
      "text/plain": [
       "<IPython.core.display.Markdown object>"
      ]
     },
     "metadata": {},
     "output_type": "display_data"
    },
    {
     "data": {
      "text/markdown": [
       "| length of bend (m) | 3.49307458053 | 0.52396118708 | 1.57188374366 |"
      ],
      "text/plain": [
       "<IPython.core.display.Markdown object>"
      ]
     },
     "metadata": {},
     "output_type": "display_data"
    },
    {
     "data": {
      "text/markdown": [
       "| synchrotron energy loss per turn (keV) | 39.7806986557 | 265.204657704 | 7160.52492702 |"
      ],
      "text/plain": [
       "<IPython.core.display.Markdown object>"
      ]
     },
     "metadata": {},
     "output_type": "display_data"
    },
    {
     "data": {
      "text/markdown": [
       "| energy of sychrotron emitted photon (keV) | 0.997538648765 | 6.65025765843 | 59.8523119798 |"
      ],
      "text/plain": [
       "<IPython.core.display.Markdown object>"
      ]
     },
     "metadata": {},
     "output_type": "display_data"
    },
    {
     "data": {
      "text/markdown": [
       "| synchrotron energy percent loss per turn (%) | 0.00397806986557 | 0.0265204657704 | 0.238684164234 |"
      ],
      "text/plain": [
       "<IPython.core.display.Markdown object>"
      ]
     },
     "metadata": {},
     "output_type": "display_data"
    },
    {
     "data": {
      "text/markdown": [
       "| Horizontal beam size (m) | 0.0444752068864 | 0.00667128103296 | 0.0200138454216 |"
      ],
      "text/plain": [
       "<IPython.core.display.Markdown object>"
      ]
     },
     "metadata": {},
     "output_type": "display_data"
    },
    {
     "data": {
      "text/markdown": [
       "| Vertical beam size (m) | 0.000245693156514 | 0.000245693156514 | 0.000245693156514 |"
      ],
      "text/plain": [
       "<IPython.core.display.Markdown object>"
      ]
     },
     "metadata": {},
     "output_type": "display_data"
    },
    {
     "data": {
      "text/markdown": [
       "| Chosen vertical aperature (m) | 0.01 | 0.01 | 0.01 |"
      ],
      "text/plain": [
       "<IPython.core.display.Markdown object>"
      ]
     },
     "metadata": {},
     "output_type": "display_data"
    },
    {
     "data": {
      "text/markdown": [
       "| Chosen horizontal aperature (m) | 0.1 | 0.1 | 0.1 |"
      ],
      "text/plain": [
       "<IPython.core.display.Markdown object>"
      ]
     },
     "metadata": {},
     "output_type": "display_data"
    },
    {
     "data": {
      "text/markdown": [
       "| Allowable E-loss (%) | 1.24844372856 | 13.989624857 | 3.99654103915 |"
      ],
      "text/plain": [
       "<IPython.core.display.Markdown object>"
      ]
     },
     "metadata": {},
     "output_type": "display_data"
    },
    {
     "data": {
      "text/markdown": [
       "| Number of turns | 313.831524017 | 527.502984983 | 16.7440561127 |"
      ],
      "text/plain": [
       "<IPython.core.display.Markdown object>"
      ]
     },
     "metadata": {},
     "output_type": "display_data"
    },
    {
     "data": {
      "text/markdown": [
       "| Vertical angle (mrad) | 0.00647504989492 | 0.0173124670302 | 0.0108833840633 |"
      ],
      "text/plain": [
       "<IPython.core.display.Markdown object>"
      ]
     },
     "metadata": {},
     "output_type": "display_data"
    },
    {
     "data": {
      "text/markdown": [
       "| Horizontal angle (mrad) | 1.17210909641 | 0.470083638353 | 0.886546330377 |"
      ],
      "text/plain": [
       "<IPython.core.display.Markdown object>"
      ]
     },
     "metadata": {},
     "output_type": "display_data"
    },
    {
     "data": {
      "text/markdown": [
       "| Beam area (mm^2) | 34.3289807852 | 5.14934711777 | 15.4480431461 |"
      ],
      "text/plain": [
       "<IPython.core.display.Markdown object>"
      ]
     },
     "metadata": {},
     "output_type": "display_data"
    },
    {
     "data": {
      "text/markdown": [
       "| Emittance (mm^2*mrad^2) | 0.260538594088 | 0.0419069702195 | 0.149052362995 |"
      ],
      "text/plain": [
       "<IPython.core.display.Markdown object>"
      ]
     },
     "metadata": {},
     "output_type": "display_data"
    }
   ],
   "source": [
    "divergence = 0.0005 #Divergence in radians\n",
    "E_spread = 0.02 # 2% is +/- 1%\n",
    "vertical_aperature = 0.01 # in m\n",
    "horizontal_aperature = 0.10 # in m\n",
    "straight_lengths = 5 # in m; all straight sections of the ring\n",
    "\n",
    "for column in table:\n",
    "    electron_energy = column.header_parameters.getParameter(\"E\").value()\n",
    "    quad_B = column.header_parameters.getParameter(\"B\").value()\n",
    "    electron_momentum = column.parameter_containers[\"Derived\"].getParameter(\"electron momentum\").value()\n",
    "    electron_gamma = column.parameter_containers[\"Derived\"].getParameter(\"electron gamma\").value()\n",
    "    \n",
    "    ring_parameters = ParameterContainer()\n",
    "    rho = ring_parameters.addParameter(\"rho\",electron_momentum/quad_B,\"m\").value()\n",
    "    perimeter = ring_parameters.addParameter(\"Perimeter\",2*np.pi*rho + straight_lengths,\"m\").value()\n",
    "    time_per_revolution = ring_parameters.addParameter(\"Time per revolution\",perimeter/c,\"sec\").value()\n",
    "    L_bend = ring_parameters.addParameter(\"length of bend\",np.pi/2.*rho,\"m\")\n",
    "    U0 = ring_parameters.addParameter(\"synchrotron energy loss per turn\",4.*np.pi/3.*r_e*electron_gamma**4/rho*m_e_c2*10**6,\"keV\").value()\n",
    "    E_photon = ring_parameters.addParameter(\"energy of sychrotron emitted photon\",h_bar*3./2.*c*electron_gamma**3/rho/1000,\"keV\")\n",
    "    column.associateParameterContainer(\"Ring\",ring_parameters)\n",
    "    E_loss_per_turn = ring_parameters.addParameter(\"synchrotron energy percent loss per turn\",U0 / (electron_energy*1e6) * 100,\"%\").value()\n",
    "    beam_x = ring_parameters.addParameter(\"Horizontal beam size\",E_spread*rho,\"m\").value()\n",
    "    beam_y = ring_parameters.addParameter(\"Vertical beam size\",d*divergence,\"m\").value()\n",
    "    ring_parameters.addParameter(\"Chosen vertical aperature\",vertical_aperature,\"m\")\n",
    "    ring_parameters.addParameter(\"Chosen horizontal aperature\",horizontal_aperature,\"m\")\n",
    "    allowable_e_loss = ring_parameters.addParameter(\"Allowable E-loss\",(horizontal_aperature - beam_x)/(2*rho) * 100,\"%\").value()\n",
    "    number_of_turns = ring_parameters.addParameter(\"Number of turns\",allowable_e_loss / E_loss_per_turn).value()\n",
    "    vertical_angle = ring_parameters.addParameter(\"Vertical angle\",beam_y/(2*perimeter)*1000,\"mrad\").value()\n",
    "    horizontal_angle = ring_parameters.addParameter(\"Horizontal angle\",beam_x/(2*perimeter)*1000,\"mrad\").value()\n",
    "    beam_size_area = ring_parameters.addParameter(\"Beam area\",np.pi*beam_x*beam_y*1e6,\"mm^2\").value()\n",
    "    ring_parameters.addParameter(\"Emittance\",beam_size_area*vertical_angle*horizontal_angle,\"mm^2*mrad^2\")\n",
    "    \n",
    "table.printTable(\"Ring\")\n"
   ]
  },
  {
   "cell_type": "markdown",
   "metadata": {},
   "source": [
    "# Doublet parameters "
   ]
  },
  {
   "cell_type": "code",
   "execution_count": 73,
   "metadata": {
    "collapsed": false
   },
   "outputs": [
    {
     "data": {
      "text/markdown": [
       "|  | E = 1.0 GeV,B = 1.5 T | E = 1.0 GeV,B = 10.0 T | E = 3.0 GeV,B = 10.0 T |"
      ],
      "text/plain": [
       "<IPython.core.display.Markdown object>"
      ]
     },
     "metadata": {},
     "output_type": "display_data"
    },
    {
     "data": {
      "text/markdown": [
       "| :-: | :-: | :-: | :-: |"
      ],
      "text/plain": [
       "<IPython.core.display.Markdown object>"
      ]
     },
     "metadata": {},
     "output_type": "display_data"
    },
    {
     "data": {
      "text/markdown": [
       "| Quad length (m) | 0.2 | 0.2 | 0.2 |"
      ],
      "text/plain": [
       "<IPython.core.display.Markdown object>"
      ]
     },
     "metadata": {},
     "output_type": "display_data"
    },
    {
     "data": {
      "text/markdown": [
       "| Quad gradient 1 (T/m) | 24.0 | 24.0 | 72.0 |"
      ],
      "text/plain": [
       "<IPython.core.display.Markdown object>"
      ]
     },
     "metadata": {},
     "output_type": "display_data"
    },
    {
     "data": {
      "text/markdown": [
       "| Quad gradient 2 (T/m) | 48.0 | 48.0 | 144.0 |"
      ],
      "text/plain": [
       "<IPython.core.display.Markdown object>"
      ]
     },
     "metadata": {},
     "output_type": "display_data"
    },
    {
     "data": {
      "text/markdown": [
       "| K1 (1/m^2) | 7.19501993138 | 7.19501993138 | 7.19501909638 |"
      ],
      "text/plain": [
       "<IPython.core.display.Markdown object>"
      ]
     },
     "metadata": {},
     "output_type": "display_data"
    },
    {
     "data": {
      "text/markdown": [
       "| K2 (1/m^2) | 14.3900398628 | 14.3900398628 | 14.3900381928 |"
      ],
      "text/plain": [
       "<IPython.core.display.Markdown object>"
      ]
     },
     "metadata": {},
     "output_type": "display_data"
    },
    {
     "data": {
      "text/markdown": [
       "| f1 (m) | 0.6949251076 | 0.6949251076 | 0.694925188248 |"
      ],
      "text/plain": [
       "<IPython.core.display.Markdown object>"
      ]
     },
     "metadata": {},
     "output_type": "display_data"
    },
    {
     "data": {
      "text/markdown": [
       "| f2 (m) | 0.3474625538 | 0.3474625538 | 0.347462594124 |"
      ],
      "text/plain": [
       "<IPython.core.display.Markdown object>"
      ]
     },
     "metadata": {},
     "output_type": "display_data"
    },
    {
     "data": {
      "text/markdown": [
       "| Post quad drift (m) | 0.491386256001 | 0.491386256001 | 0.491386313028 |"
      ],
      "text/plain": [
       "<IPython.core.display.Markdown object>"
      ]
     },
     "metadata": {},
     "output_type": "display_data"
    },
    {
     "data": {
      "text/markdown": [
       "| Quad spacing (m) | 0.491386256001 | 0.491386256001 | 0.491386313028 |"
      ],
      "text/plain": [
       "<IPython.core.display.Markdown object>"
      ]
     },
     "metadata": {},
     "output_type": "display_data"
    },
    {
     "data": {
      "text/markdown": [
       "| Doublet focus (m) | 0.982772512002 | 0.982772512002 | 0.982772626056 |"
      ],
      "text/plain": [
       "<IPython.core.display.Markdown object>"
      ]
     },
     "metadata": {},
     "output_type": "display_data"
    },
    {
     "data": {
      "text/markdown": [
       "| Maximum horizontal aperature (m) | 0.291666666667 | 0.291666666667 | 0.0972222222222 |"
      ],
      "text/plain": [
       "<IPython.core.display.Markdown object>"
      ]
     },
     "metadata": {},
     "output_type": "display_data"
    },
    {
     "data": {
      "text/markdown": [
       "| Maximum vertical aperature (m) | 0.291666666667 | 0.291666666667 | 0.0972222222222 |"
      ],
      "text/plain": [
       "<IPython.core.display.Markdown object>"
      ]
     },
     "metadata": {},
     "output_type": "display_data"
    }
   ],
   "source": [
    "L_quad = 0.20 #Length of the doublet quads in m.\n",
    "max_pole_tip = 7. # Maximum magnetic field at pole tip\n",
    "\n",
    "for column in table:\n",
    "    electron_energy = column.header_parameters.getParameter(\"E\").value()\n",
    "    quad_B = column.header_parameters.getParameter(\"B\").value()\n",
    "    electron_momentum = column.parameter_containers[\"Derived\"].getParameter(\"electron momentum\").value()\n",
    "    electron_gamma = column.parameter_containers[\"Derived\"].getParameter(\"electron gamma\").value()\n",
    "    rho = column.parameter_containers[\"Ring\"].getParameter(\"rho\").value()\n",
    "    \n",
    "    doublet_parameters = ParameterContainer()\n",
    "    doublet_parameters.addParameter(\"Quad length\",L_quad,\"m\")\n",
    "    \n",
    "    if electron_energy == 1.:\n",
    "        G1 = doublet_parameters.addParameter(\"Quad gradient 1\",24.,\"T/m\").value()\n",
    "        G2 = doublet_parameters.addParameter(\"Quad gradient 2\",48.,\"T/m\").value()    \n",
    "    elif electron_energy == 3.0:\n",
    "        G1 = doublet_parameters.addParameter(\"Quad gradient 1\",72.,\"T/m\").value()\n",
    "        G2 = doublet_parameters.addParameter(\"Quad gradient 2\",144.,\"T/m\").value()\n",
    "    else:\n",
    "        raise Exception(\"You need to pick an a_0 for your magnet.\")\n",
    "    K1 = doublet_parameters.addParameter(\"K1\",G1/electron_momentum,\"1/m^2\").value()\n",
    "    K2 = doublet_parameters.addParameter(\"K2\",G2/electron_momentum,\"1/m^2\").value()\n",
    "    f1 = doublet_parameters.addParameter(\"f1\",electron_momentum/(G1*L_quad),\"m\").value()\n",
    "    f2 = doublet_parameters.addParameter(\"f2\",electron_momentum/(G2*L_quad),\"m\").value()\n",
    "    d = doublet_parameters.addParameter(\"Post quad drift\",np.sqrt(f2**2 * f1 / (f1-f2)),\"m\").value()\n",
    "    quad_spacing = doublet_parameters.addParameter(\"Quad spacing\",f2 * f1 / d,\"m\").value()\n",
    "    doublet_parameters.addParameter(\"Doublet focus\",d + quad_spacing,\"m\")\n",
    "    doublet_parameters.addParameter(\"Maximum horizontal aperature\", 2*max_pole_tip/G2,\"m\")\n",
    "    doublet_parameters.addParameter(\"Maximum vertical aperature\", 2*max_pole_tip/G2,\"m\")\n",
    "    \n",
    "    column.associateParameterContainer(\"Doublet\",doublet_parameters)\n",
    "    \n",
    "table.printTable(\"Doublet\")"
   ]
  },
  {
   "cell_type": "markdown",
   "metadata": {},
   "source": [
    "# Laser parameters"
   ]
  },
  {
   "cell_type": "code",
   "execution_count": 56,
   "metadata": {
    "collapsed": false
   },
   "outputs": [
    {
     "data": {
      "text/markdown": [
       "|  | E = 1.0 GeV,B = 1.5 T | E = 1.0 GeV,B = 10.0 T | E = 3.0 GeV,B = 10.0 T |"
      ],
      "text/plain": [
       "<IPython.core.display.Markdown object>"
      ]
     },
     "metadata": {},
     "output_type": "display_data"
    },
    {
     "data": {
      "text/markdown": [
       "| :-: | :-: | :-: | :-: |"
      ],
      "text/plain": [
       "<IPython.core.display.Markdown object>"
      ]
     },
     "metadata": {},
     "output_type": "display_data"
    },
    {
     "data": {
      "text/markdown": [
       "| wavelength (nm) | 780 | 780 | 780 |"
      ],
      "text/plain": [
       "<IPython.core.display.Markdown object>"
      ]
     },
     "metadata": {},
     "output_type": "display_data"
    },
    {
     "data": {
      "text/markdown": [
       "| a_0 | 2.1 | 2.1 | 2.1 |"
      ],
      "text/plain": [
       "<IPython.core.display.Markdown object>"
      ]
     },
     "metadata": {},
     "output_type": "display_data"
    },
    {
     "data": {
      "text/markdown": [
       "| intensity (W/cm^2) | 9.92948042474e+18 | 9.92948042474e+18 | 9.92948042474e+18 |"
      ],
      "text/plain": [
       "<IPython.core.display.Markdown object>"
      ]
     },
     "metadata": {},
     "output_type": "display_data"
    }
   ],
   "source": [
    "for column in table:\n",
    "    electron_energy = column.header_parameters.getParameter(\"E\").value()\n",
    "    laser_parameters = ParameterContainer()\n",
    "    laser_wavelength = laser_parameters.addParameter(\"wavelength\",780,\"nm\").value()\n",
    "    a_0 = laser_parameters.addParameter(\"a_0\",2.1).value()\n",
    "    intensity = laser_parameters.addParameter(\"intensity\",a_0**2/(laser_wavelength*1e-3)**2/7.3e-19,\"W/cm^2\").value()\n",
    "\n",
    "    column.associateParameterContainer(\"Laser\",laser_parameters)\n",
    "    \n",
    "table.printTable(\"Laser\")"
   ]
  },
  {
   "cell_type": "markdown",
   "metadata": {},
   "source": [
    "# Plasma parameters"
   ]
  },
  {
   "cell_type": "code",
   "execution_count": 57,
   "metadata": {
    "collapsed": false
   },
   "outputs": [
    {
     "data": {
      "text/markdown": [
       "|  | E = 1.0 GeV,B = 1.5 T | E = 1.0 GeV,B = 10.0 T | E = 3.0 GeV,B = 10.0 T |"
      ],
      "text/plain": [
       "<IPython.core.display.Markdown object>"
      ]
     },
     "metadata": {},
     "output_type": "display_data"
    },
    {
     "data": {
      "text/markdown": [
       "| :-: | :-: | :-: | :-: |"
      ],
      "text/plain": [
       "<IPython.core.display.Markdown object>"
      ]
     },
     "metadata": {},
     "output_type": "display_data"
    },
    {
     "data": {
      "text/markdown": [
       "| plasma density (cm^-3) | 1.75e+17 | 1.75e+17 | 1.75e+17 |"
      ],
      "text/plain": [
       "<IPython.core.display.Markdown object>"
      ]
     },
     "metadata": {},
     "output_type": "display_data"
    },
    {
     "data": {
      "text/markdown": [
       "| Max E field (GV/cm) | 0.878493027861 | 0.878493027861 | 0.878493027861 |"
      ],
      "text/plain": [
       "<IPython.core.display.Markdown object>"
      ]
     },
     "metadata": {},
     "output_type": "display_data"
    },
    {
     "data": {
      "text/markdown": [
       "| plasma wavelength (mm) | 0.0755928946018 | 0.0755928946018 | 0.0755928946018 |"
      ],
      "text/plain": [
       "<IPython.core.display.Markdown object>"
      ]
     },
     "metadata": {},
     "output_type": "display_data"
    },
    {
     "data": {
      "text/markdown": [
       "| plasma frequency (rad/sec) | 2.4918368019e+13 | 2.4918368019e+13 | 2.4918368019e+13 |"
      ],
      "text/plain": [
       "<IPython.core.display.Markdown object>"
      ]
     },
     "metadata": {},
     "output_type": "display_data"
    },
    {
     "data": {
      "text/markdown": [
       "| bubble size (m) | 3.4869100988e-05 | 3.4869100988e-05 | 3.4869100988e-05 |"
      ],
      "text/plain": [
       "<IPython.core.display.Markdown object>"
      ]
     },
     "metadata": {},
     "output_type": "display_data"
    },
    {
     "data": {
      "text/markdown": [
       "| total laser power (TW) | 379.278214064 | 379.278214064 | 379.278214064 |"
      ],
      "text/plain": [
       "<IPython.core.display.Markdown object>"
      ]
     },
     "metadata": {},
     "output_type": "display_data"
    },
    {
     "data": {
      "text/markdown": [
       "| depletion length (cm) | 16.9045817963 | 16.9045817963 | 16.9045817963 |"
      ],
      "text/plain": [
       "<IPython.core.display.Markdown object>"
      ]
     },
     "metadata": {},
     "output_type": "display_data"
    },
    {
     "data": {
      "text/markdown": [
       "| dephasing length (cm) | 3.54996217723 | 3.54996217723 | 3.54996217723 |"
      ],
      "text/plain": [
       "<IPython.core.display.Markdown object>"
      ]
     },
     "metadata": {},
     "output_type": "display_data"
    },
    {
     "data": {
      "text/markdown": [
       "| maximum energy possible (GeV) | 3.11861702186 | 3.11861702186 | 3.11861702186 |"
      ],
      "text/plain": [
       "<IPython.core.display.Markdown object>"
      ]
     },
     "metadata": {},
     "output_type": "display_data"
    },
    {
     "data": {
      "text/markdown": [
       "| total plasma length (cm) | 1.13831296127 | 1.13831296127 | 3.41493888381 |"
      ],
      "text/plain": [
       "<IPython.core.display.Markdown object>"
      ]
     },
     "metadata": {},
     "output_type": "display_data"
    }
   ],
   "source": [
    "for column in table:\n",
    "    electron_energy = column.header_parameters.getParameter(\"E\").value()\n",
    "    quad_B = column.header_parameters.getParameter(\"B\").value()\n",
    "    electron_momentum = column.parameter_containers[\"Derived\"].getParameter(\"electron momentum\").value()\n",
    "    electron_gamma = column.parameter_containers[\"Derived\"].getParameter(\"electron gamma\").value()\n",
    "    a_0 = column.parameter_containers[\"Laser\"].getParameter(\"a_0\").value()\n",
    "    \n",
    "    plasma_parameters = ParameterContainer()\n",
    "    n = plasma_parameters.addParameter(\"plasma density\",1.75e17,\"cm^-3\").value()\n",
    "    E_max = plasma_parameters.addParameter(\"Max E field\",np.sqrt(n * a_0**2)/1e9,\"GV/cm\").value()\n",
    "    \n",
    "    \n",
    "    plasma_wavelength = plasma_parameters.addParameter(\"plasma wavelength\",0.1*np.sqrt(1e17/n),\"mm\").value()\n",
    "    w_pe = plasma_parameters.addParameter(\"plasma frequency\",2.*np.pi*c/(plasma_wavelength*1e-3),\"rad/sec\").value()\n",
    "    R_b = plasma_parameters.addParameter(\"bubble size\",2*np.sqrt(a_0)*c/w_pe,\"m\").value()\n",
    "    laser_power = plasma_parameters.addParameter(\"total laser power\",np.pi*R_b**2*intensity*100.**2/1e12,\"TW\").value()\n",
    "    L_p = plasma_parameters.addParameter(\"depletion length\",0.5 / a_0 * plasma_wavelength**3 / (laser_wavelength*1e-6)**2/10,\"cm\").value()\n",
    "    L_d = plasma_parameters.addParameter(\"dephasing length\",L_p*a_0/10,\"cm\").value()\n",
    "    max_energy = plasma_parameters.addParameter(\"maximum energy possible\",E_max*np.min([L_p,L_d]),\"GeV\").value()\n",
    "    total_plasma_length = plasma_parameters.addParameter(\"total plasma length\",electron_energy / E_max,\"cm\").value()\n",
    "\n",
    "    column.associateParameterContainer(\"Plasma\",plasma_parameters)\n",
    "    \n",
    "table.printTable(\"Plasma\")"
   ]
  },
  {
   "cell_type": "markdown",
   "metadata": {},
   "source": [
    "# Wiggler parameters"
   ]
  },
  {
   "cell_type": "code",
   "execution_count": 102,
   "metadata": {
    "collapsed": false
   },
   "outputs": [
    {
     "data": {
      "text/markdown": [
       "|  | E = 1.0 GeV,B = 1.5 T | E = 1.0 GeV,B = 10.0 T | E = 3.0 GeV,B = 10.0 T |"
      ],
      "text/plain": [
       "<IPython.core.display.Markdown object>"
      ]
     },
     "metadata": {},
     "output_type": "display_data"
    },
    {
     "data": {
      "text/markdown": [
       "| :-: | :-: | :-: | :-: |"
      ],
      "text/plain": [
       "<IPython.core.display.Markdown object>"
      ]
     },
     "metadata": {},
     "output_type": "display_data"
    },
    {
     "data": {
      "text/markdown": [
       "| photon energy (keV) | 0.4 | 0.4 | 10.0 |"
      ],
      "text/plain": [
       "<IPython.core.display.Markdown object>"
      ]
     },
     "metadata": {},
     "output_type": "display_data"
    },
    {
     "data": {
      "text/markdown": [
       "| wiggler periodicity (m) | 0.015 | 0.015 | 0.1 |"
      ],
      "text/plain": [
       "<IPython.core.display.Markdown object>"
      ]
     },
     "metadata": {},
     "output_type": "display_data"
    },
    {
     "data": {
      "text/markdown": [
       "| rho (m) | 5.54571722263 | 5.54571722263 | 5.98937460044 |"
      ],
      "text/plain": [
       "<IPython.core.display.Markdown object>"
      ]
     },
     "metadata": {},
     "output_type": "display_data"
    },
    {
     "data": {
      "text/markdown": [
       "| magnetic_field (T) | 2.00292991402 | 2.00292991402 | 5.56369485129 |"
      ],
      "text/plain": [
       "<IPython.core.display.Markdown object>"
      ]
     },
     "metadata": {},
     "output_type": "display_data"
    },
    {
     "data": {
      "text/markdown": [
       "| K () | 0.842429691581 | 0.842429691581 | 15.6005498441 |"
      ],
      "text/plain": [
       "<IPython.core.display.Markdown object>"
      ]
     },
     "metadata": {},
     "output_type": "display_data"
    },
    {
     "data": {
      "text/markdown": [
       "| photons per m per e (1/(m*electron)) | 2.57506148932 | 2.57506148932 | 7.15294858145 |"
      ],
      "text/plain": [
       "<IPython.core.display.Markdown object>"
      ]
     },
     "metadata": {},
     "output_type": "display_data"
    },
    {
     "data": {
      "text/markdown": [
       "| photons per m (1/m) | 160722697.853 | 160722697.853 | 312516356.937 |"
      ],
      "text/plain": [
       "<IPython.core.display.Markdown object>"
      ]
     },
     "metadata": {},
     "output_type": "display_data"
    },
    {
     "data": {
      "text/markdown": [
       "| energy per m (keV/m) | 1.03002459573 | 1.03002459573 | 71.5294858145 |"
      ],
      "text/plain": [
       "<IPython.core.display.Markdown object>"
      ]
     },
     "metadata": {},
     "output_type": "display_data"
    },
    {
     "data": {
      "text/markdown": [
       "| Average number of photons per sec (photons per sec) | 100879698423.0 | 169563405744.0 | 10465582833.4 |"
      ],
      "text/plain": [
       "<IPython.core.display.Markdown object>"
      ]
     },
     "metadata": {},
     "output_type": "display_data"
    },
    {
     "data": {
      "text/markdown": [
       "| Average number of photons per spill (photons per sec) | 5.07934798702e+15 | 1.35807516525e+16 | 1.66006213087e+16 |"
      ],
      "text/plain": [
       "<IPython.core.display.Markdown object>"
      ]
     },
     "metadata": {},
     "output_type": "display_data"
    },
    {
     "data": {
      "text/markdown": [
       "| Brilliance per electron lifetime (photons/(mm^2*mrad^2*sec)) | 387196755919.0 | 4.04618622764e+12 | 70214135644.0 |"
      ],
      "text/plain": [
       "<IPython.core.display.Markdown object>"
      ]
     },
     "metadata": {},
     "output_type": "display_data"
    },
    {
     "data": {
      "text/markdown": [
       "| Brilliance per spill (photons/(mm^2*mrad^2*sec)) | 1.94955684197e+16 | 3.24069041054e+17 | 1.11374425572e+17 |"
      ],
      "text/plain": [
       "<IPython.core.display.Markdown object>"
      ]
     },
     "metadata": {},
     "output_type": "display_data"
    },
    {
     "data": {
      "text/markdown": [
       "| x-ray pulse length (sec) | 6.67128190396e-09 | 6.67128190396e-09 | 6.67128190396e-09 |"
      ],
      "text/plain": [
       "<IPython.core.display.Markdown object>"
      ]
     },
     "metadata": {},
     "output_type": "display_data"
    },
    {
     "data": {
      "text/markdown": [
       "| x-ray train len (sec) | 1.98607574595e-05 | 1.24855685519e-05 | 6.30433201191e-07 |"
      ],
      "text/plain": [
       "<IPython.core.display.Markdown object>"
      ]
     },
     "metadata": {},
     "output_type": "display_data"
    }
   ],
   "source": [
    "length_of_wiggler = 2. # in m\n",
    "\n",
    "for column in table:\n",
    "    electron_energy = column.header_parameters.getParameter(\"E\").value()\n",
    "    quad_B = column.header_parameters.getParameter(\"B\").value()\n",
    "    electron_momentum = column.parameter_containers[\"Derived\"].getParameter(\"electron momentum\").value()\n",
    "    electron_gamma = column.parameter_containers[\"Derived\"].getParameter(\"electron gamma\").value()\n",
    "    number_electrons = column.parameter_containers[\"Derived\"].getParameter(\"number electrons\").value()\n",
    "    number_of_turns = column.parameter_containers[\"Ring\"].getParameter(\"Number of turns\").value()\n",
    "    time_per_revolution = column.parameter_containers[\"Ring\"].getParameter(\"Time per revolution\").value()\n",
    "    emittance = column.parameter_containers[\"Ring\"].getParameter(\"Emittance\").value()\n",
    "    \n",
    "    wiggler_parameters = ParameterContainer()\n",
    "\n",
    "    if electron_energy == 1.0:\n",
    "        photon_energy = wiggler_parameters.addParameter(\"photon energy\",0.4,\"keV\").value()\n",
    "        wiggler_wavelength = wiggler_parameters.addParameter(\"wiggler periodicity\",1.5e-2,\"m\").value()\n",
    "    elif electron_energy == 3.0:\n",
    "        photon_energy = wiggler_parameters.addParameter(\"photon energy\",10.,\"keV\").value()\n",
    "        wiggler_wavelength = wiggler_parameters.addParameter(\"wiggler periodicity\",1.e-1,\"m\").value()\n",
    "    else:\n",
    "        raise Exception(\"You need to pick an arbitrary photon energy for your electon energy.\")\n",
    "    \n",
    "    wiggler_rho = wiggler_parameters.addParameter(\"rho\",h_bar*1.5*c*electron_gamma**3/(photon_energy*1e3),\"m\").value()\n",
    "    wiggler_B = wiggler_parameters.addParameter(\"magnetic_field\",3.33* electron_momentum / wiggler_rho,\"T\").value()\n",
    "    K = wiggler_parameters.addParameter(\"K\",electron_gamma*wiggler_wavelength/(2*np.pi*wiggler_rho),\"\").value()\n",
    "    photons_per_unit_length_per_electron = wiggler_parameters.addParameter(\"photons per m per e\",alpha*electron_gamma/wiggler_rho,\"1/(m*electron)\").value()\n",
    "    photons_per_unit_length = wiggler_parameters.addParameter(\"photons per m\",photons_per_unit_length_per_electron*number_electrons,\"1/m\").value()\n",
    "    energy_loss_per_m_per_electron = wiggler_parameters.addParameter(\"energy per m\",photons_per_unit_length_per_electron*photon_energy,\"keV/m\").value()\n",
    "    number_photons_lifetime = wiggler_parameters.addParameter(\"Average number of photons per sec\",photons_per_unit_length*length_of_wiggler*number_of_turns,\"photons per sec\").value()\n",
    "    number_photons_spill = wiggler_parameters.addParameter(\"Average number of photons per spill\",photons_per_unit_length*length_of_wiggler / time_per_revolution,\"photons per sec\").value()\n",
    "    wiggler_parameters.addParameter(\"Brilliance per electron lifetime\",number_photons_lifetime/emittance,\"photons/(mm^2*mrad^2*sec)\")\n",
    "    wiggler_parameters.addParameter(\"Brilliance per spill\",number_photons_spill/emittance,\"photons/(mm^2*mrad^2*sec)\")\n",
    "    wiggler_parameters.addParameter(\"x-ray pulse length\",length_of_wiggler/c,\"sec\")\n",
    "    wiggler_parameters.addParameter(\"x-ray train len\",number_of_turns*time_per_revolution,\"sec\")\n",
    "    \n",
    "    column.associateParameterContainer(\"Wiggler\",wiggler_parameters)\n",
    "    \n",
    "table.printTable(\"Wiggler\")"
   ]
  },
  {
   "cell_type": "code",
   "execution_count": null,
   "metadata": {
    "collapsed": true
   },
   "outputs": [],
   "source": []
  }
 ],
 "metadata": {
  "kernelspec": {
   "display_name": "Python 2",
   "language": "python",
   "name": "python2"
  },
  "language_info": {
   "codemirror_mode": {
    "name": "ipython",
    "version": 2
   },
   "file_extension": ".py",
   "mimetype": "text/x-python",
   "name": "python",
   "nbconvert_exporter": "python",
   "pygments_lexer": "ipython2",
   "version": "2.7.11"
  }
 },
 "nbformat": 4,
 "nbformat_minor": 0
}
