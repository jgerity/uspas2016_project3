{
 "cells": [
  {
   "cell_type": "markdown",
   "metadata": {},
   "source": [
    "# Import my personal printing object"
   ]
  },
  {
   "cell_type": "code",
   "execution_count": 5,
   "metadata": {
    "collapsed": false
   },
   "outputs": [],
   "source": [
    "from parameters import ParameterContainer, ParameterColumn, ParameterTable"
   ]
  },
  {
   "cell_type": "markdown",
   "metadata": {},
   "source": [
    "# Import and name constants"
   ]
  },
  {
   "cell_type": "code",
   "execution_count": 6,
   "metadata": {
    "collapsed": true
   },
   "outputs": [],
   "source": [
    "import numpy as np\n",
    "from scipy import constants\n",
    "c = constants.physical_constants[\"speed of light in vacuum\"][0] #m/sec by default\n",
    "e = constants.physical_constants[\"elementary charge\"][0] #m/sec by default\n",
    "m_e_c2 = constants.physical_constants[\"electron mass energy equivalent in MeV\"][0]*10**-3 #in GeV\n",
    "r_e = constants.physical_constants[\"classical electron radius\"][0]#in m\n",
    "h_bar = constants.physical_constants[\"Planck constant over 2 pi in eV s\"][0] #in eV s\n",
    "alpha = constants.physical_constants[\"fine-structure constant\"][0] #no units"
   ]
  },
  {
   "cell_type": "markdown",
   "metadata": {},
   "source": [
    "# Name and assign input parameters"
   ]
  },
  {
   "cell_type": "code",
   "execution_count": 7,
   "metadata": {
    "collapsed": false
   },
   "outputs": [],
   "source": [
    "column1 = ParameterContainer()\n",
    "column1.addParameter(\"E\",1.5,\"GeV\")\n",
    "column1.addParameter(\"B\",1.,\"T\")\n",
    "\n",
    "column2 = ParameterContainer()\n",
    "column2.addParameter(\"E\",1.5,\"GeV\")\n",
    "column2.addParameter(\"B\",3.,\"T\")\n",
    "\n",
    "column3 = ParameterContainer()\n",
    "column3.addParameter(\"E\",3.,\"GeV\")\n",
    "column3.addParameter(\"B\",3.,\"T\")\n",
    "\n",
    "table = ParameterTable()\n",
    "table.addColumn(ParameterColumn(column1))\n",
    "table.addColumn(ParameterColumn(column2))\n",
    "table.addColumn(ParameterColumn(column3))"
   ]
  },
  {
   "cell_type": "markdown",
   "metadata": {},
   "source": [
    "# Calculate and store derived parameters"
   ]
  },
  {
   "cell_type": "code",
   "execution_count": 8,
   "metadata": {
    "collapsed": false
   },
   "outputs": [
    {
     "data": {
      "text/markdown": [
       "|  | E = 1.5 GeV,B = 1.0 T | E = 1.5 GeV,B = 3.0 T | E = 3.0 GeV,B = 3.0 T |"
      ],
      "text/plain": [
       "<IPython.core.display.Markdown object>"
      ]
     },
     "metadata": {},
     "output_type": "display_data"
    },
    {
     "data": {
      "text/markdown": [
       "| :-: | :-: | :-: | :-: |"
      ],
      "text/plain": [
       "<IPython.core.display.Markdown object>"
      ]
     },
     "metadata": {},
     "output_type": "display_data"
    },
    {
     "data": {
      "text/markdown": [
       "| electron kinetic energy (eV) | 1499489001.05 | 1499489001.05 | 2999489001.05 |"
      ],
      "text/plain": [
       "<IPython.core.display.Markdown object>"
      ]
     },
     "metadata": {},
     "output_type": "display_data"
    },
    {
     "data": {
      "text/markdown": [
       "| electron momentum (eV/c) | 5.00346113764 | 5.00346113764 | 10.0069227108 |"
      ],
      "text/plain": [
       "<IPython.core.display.Markdown object>"
      ]
     },
     "metadata": {},
     "output_type": "display_data"
    },
    {
     "data": {
      "text/markdown": [
       "| electron gamma | 2935.42679774 | 2935.42679774 | 5870.85359548 |"
      ],
      "text/plain": [
       "<IPython.core.display.Markdown object>"
      ]
     },
     "metadata": {},
     "output_type": "display_data"
    },
    {
     "data": {
      "text/markdown": [
       "| beam charge (C) | 1e-11 | 1e-11 | 7e-12 |"
      ],
      "text/plain": [
       "<IPython.core.display.Markdown object>"
      ]
     },
     "metadata": {},
     "output_type": "display_data"
    },
    {
     "data": {
      "text/markdown": [
       "| number electrons | 62415091.2588 | 62415091.2588 | 43690563.8812 |"
      ],
      "text/plain": [
       "<IPython.core.display.Markdown object>"
      ]
     },
     "metadata": {},
     "output_type": "display_data"
    }
   ],
   "source": [
    "for column in table:\n",
    "    electron_energy = column.header_parameters.getParameter(\"E\").value()\n",
    "    derived_parameters = ParameterContainer()\n",
    "    electron_kinetic_energy = derived_parameters.addParameter(\"electron kinetic energy\",(electron_energy - m_e_c2)*10**9,\"eV\").value()\n",
    "    derived_parameters.addParameter(\"electron momentum\",np.sqrt(electron_energy**2 - m_e_c2**2)*10**9/c,\"eV/c\")\n",
    "    derived_parameters.addParameter(\"electron gamma\",electron_kinetic_energy/(m_e_c2*10**9) + 1)\n",
    "    if electron_energy == 1.5:\n",
    "        electron_charge = derived_parameters.addParameter(\"beam charge\",10e-12,\"C\").value()\n",
    "    elif electron_energy == 3.0:\n",
    "        electron_charge = derived_parameters.addParameter(\"beam charge\",7e-12,\"C\").value()\n",
    "    else:\n",
    "        raise Exception(\"You need to pick an electron charge for your pulse.\")\n",
    "    derived_parameters.addParameter(\"number electrons\",electron_charge/e)\n",
    "    column.associateParameterContainer(\"Derived\",derived_parameters)\n",
    "\n",
    "table.printTable(\"Derived\")"
   ]
  },
  {
   "cell_type": "markdown",
   "metadata": {},
   "source": [
    "# Ring/turn parameters storing and reporting"
   ]
  },
  {
   "cell_type": "code",
   "execution_count": 9,
   "metadata": {
    "collapsed": false
   },
   "outputs": [
    {
     "data": {
      "text/markdown": [
       "|  | E = 1.5 GeV,B = 1.0 T | E = 1.5 GeV,B = 3.0 T | E = 3.0 GeV,B = 3.0 T |"
      ],
      "text/plain": [
       "<IPython.core.display.Markdown object>"
      ]
     },
     "metadata": {},
     "output_type": "display_data"
    },
    {
     "data": {
      "text/markdown": [
       "| :-: | :-: | :-: | :-: |"
      ],
      "text/plain": [
       "<IPython.core.display.Markdown object>"
      ]
     },
     "metadata": {},
     "output_type": "display_data"
    },
    {
     "data": {
      "text/markdown": [
       "| rho (m) | 5.00346113764 | 1.66782037921 | 3.33564090359 |"
      ],
      "text/plain": [
       "<IPython.core.display.Markdown object>"
      ]
     },
     "metadata": {},
     "output_type": "display_data"
    },
    {
     "data": {
      "text/markdown": [
       "| length of bend (m) | 7.85941837626 | 2.61980612542 | 5.23961247887 |"
      ],
      "text/plain": [
       "<IPython.core.display.Markdown object>"
      ]
     },
     "metadata": {},
     "output_type": "display_data"
    },
    {
     "data": {
      "text/markdown": [
       "| synchrotron energy loss per turn (keV) | 89.506565483 | 268.519696449 | 2148.1574781 |"
      ],
      "text/plain": [
       "<IPython.core.display.Markdown object>"
      ]
     },
     "metadata": {},
     "output_type": "display_data"
    },
    {
     "data": {
      "text/markdown": [
       "| energy of sychrotron emitted photon (keV) | 1.49630786462 | 4.48892359385 | 17.955693594 |"
      ],
      "text/plain": [
       "<IPython.core.display.Markdown object>"
      ]
     },
     "metadata": {},
     "output_type": "display_data"
    }
   ],
   "source": [
    "for column in table:\n",
    "    electron_energy = column.header_parameters.getParameter(\"E\").value()\n",
    "    quad_B = column.header_parameters.getParameter(\"B\").value()\n",
    "    electron_momentum = column.parameter_containers[\"Derived\"].getParameter(\"electron momentum\").value()\n",
    "    electron_gamma = column.parameter_containers[\"Derived\"].getParameter(\"electron gamma\").value()\n",
    "    \n",
    "    ring_parameters = ParameterContainer()\n",
    "    rho = ring_parameters.addParameter(\"rho\",electron_momentum/quad_B,\"m\").value()\n",
    "    L_bend = ring_parameters.addParameter(\"length of bend\",np.pi/2.*rho,\"m\")\n",
    "    U0 = ring_parameters.addParameter(\"synchrotron energy loss per turn\",4.*np.pi/3.*r_e*electron_gamma**4/rho*m_e_c2*10**6,\"keV\")\n",
    "    E_photon = ring_parameters.addParameter(\"energy of sychrotron emitted photon\",h_bar*3./2.*c*electron_gamma**3/rho/1000,\"keV\")\n",
    "    column.associateParameterContainer(\"Ring\",ring_parameters)\n",
    "    \n",
    "table.printTable(\"Ring\")\n"
   ]
  },
  {
   "cell_type": "markdown",
   "metadata": {},
   "source": [
    "# Doublet parameters storing and reporting "
   ]
  },
  {
   "cell_type": "code",
   "execution_count": 10,
   "metadata": {
    "collapsed": false
   },
   "outputs": [
    {
     "data": {
      "text/markdown": [
       "|  | E = 1.5 GeV,B = 1.0 T | E = 1.5 GeV,B = 3.0 T | E = 3.0 GeV,B = 3.0 T |"
      ],
      "text/plain": [
       "<IPython.core.display.Markdown object>"
      ]
     },
     "metadata": {},
     "output_type": "display_data"
    },
    {
     "data": {
      "text/markdown": [
       "| :-: | :-: | :-: | :-: |"
      ],
      "text/plain": [
       "<IPython.core.display.Markdown object>"
      ]
     },
     "metadata": {},
     "output_type": "display_data"
    },
    {
     "data": {
      "text/markdown": [
       "| Quad length (m) | 0.1 | 0.1 | 0.1 |"
      ],
      "text/plain": [
       "<IPython.core.display.Markdown object>"
      ]
     },
     "metadata": {},
     "output_type": "display_data"
    },
    {
     "data": {
      "text/markdown": [
       "| Quad gradient 1 (T/m) | 50.0 | 50.0 | 50.0 |"
      ],
      "text/plain": [
       "<IPython.core.display.Markdown object>"
      ]
     },
     "metadata": {},
     "output_type": "display_data"
    },
    {
     "data": {
      "text/markdown": [
       "| Quad gradient 2 (T/m) | 100.0 | 100.0 | 100.0 |"
      ],
      "text/plain": [
       "<IPython.core.display.Markdown object>"
      ]
     },
     "metadata": {},
     "output_type": "display_data"
    },
    {
     "data": {
      "text/markdown": [
       "| K1 (1/m^2) | 9.9930825132 | 9.9930825132 | 4.99654103915 |"
      ],
      "text/plain": [
       "<IPython.core.display.Markdown object>"
      ]
     },
     "metadata": {},
     "output_type": "display_data"
    },
    {
     "data": {
      "text/markdown": [
       "| K2 (1/m^2) | 19.9861650264 | 19.9861650264 | 9.9930820783 |"
      ],
      "text/plain": [
       "<IPython.core.display.Markdown object>"
      ]
     },
     "metadata": {},
     "output_type": "display_data"
    },
    {
     "data": {
      "text/markdown": [
       "| f1 (m) | 1.00069222753 | 1.00069222753 | 2.00138454216 |"
      ],
      "text/plain": [
       "<IPython.core.display.Markdown object>"
      ]
     },
     "metadata": {},
     "output_type": "display_data"
    },
    {
     "data": {
      "text/markdown": [
       "| f2 (m) | 0.500346113764 | 0.500346113764 | 1.00069227108 |"
      ],
      "text/plain": [
       "<IPython.core.display.Markdown object>"
      ]
     },
     "metadata": {},
     "output_type": "display_data"
    },
    {
     "data": {
      "text/markdown": [
       "| Post quad drift (m) | 0.707596259965 | 0.707596259965 | 1.41519258152 |"
      ],
      "text/plain": [
       "<IPython.core.display.Markdown object>"
      ]
     },
     "metadata": {},
     "output_type": "display_data"
    },
    {
     "data": {
      "text/markdown": [
       "| Quad spacing (m) | 0.707596259965 | 0.707596259965 | 1.41519258152 |"
      ],
      "text/plain": [
       "<IPython.core.display.Markdown object>"
      ]
     },
     "metadata": {},
     "output_type": "display_data"
    },
    {
     "data": {
      "text/markdown": [
       "| Doublet focus (m) | 1.41519251993 | 1.41519251993 | 2.83038516304 |"
      ],
      "text/plain": [
       "<IPython.core.display.Markdown object>"
      ]
     },
     "metadata": {},
     "output_type": "display_data"
    }
   ],
   "source": [
    "G1 = 50. #Magnetic field gradient for the first doublet quad in T/m.\n",
    "G2 = 100. #Magnetic field gradient for the second doublet quad in T/m.\n",
    "L_quad = 0.10 #Length of the doublet quads in m.\n",
    "\n",
    "for column in table:\n",
    "    electron_energy = column.header_parameters.getParameter(\"E\").value()\n",
    "    quad_B = column.header_parameters.getParameter(\"B\").value()\n",
    "    electron_momentum = column.parameter_containers[\"Derived\"].getParameter(\"electron momentum\").value()\n",
    "    electron_gamma = column.parameter_containers[\"Derived\"].getParameter(\"electron gamma\").value()\n",
    "    \n",
    "    doublet_parameters = ParameterContainer()\n",
    "    doublet_parameters.addParameter(\"Quad length\",L_quad,\"m\")\n",
    "    doublet_parameters.addParameter(\"Quad gradient 1\",G1,\"T/m\")\n",
    "    doublet_parameters.addParameter(\"Quad gradient 2\",G2,\"T/m\")\n",
    "    K1 = doublet_parameters.addParameter(\"K1\",G1/electron_momentum,\"1/m^2\").value()\n",
    "    K2 = doublet_parameters.addParameter(\"K2\",G2/electron_momentum,\"1/m^2\").value()\n",
    "    f1 = doublet_parameters.addParameter(\"f1\",electron_momentum/(G1*L_quad),\"m\").value()\n",
    "    f2 = doublet_parameters.addParameter(\"f2\",electron_momentum/(G2*L_quad),\"m\").value()\n",
    "    d = doublet_parameters.addParameter(\"Post quad drift\",np.sqrt(f2**2 * f1 / (f1-f2)),\"m\").value()\n",
    "    quad_spacing = doublet_parameters.addParameter(\"Quad spacing\",f2 * f1 / d,\"m\").value()\n",
    "    doublet_parameters.addParameter(\"Doublet focus\",d + quad_spacing,\"m\")\n",
    "    \n",
    "    column.associateParameterContainer(\"Doublet\",doublet_parameters)\n",
    "    \n",
    "table.printTable(\"Doublet\")"
   ]
  },
  {
   "cell_type": "markdown",
   "metadata": {},
   "source": [
    "# Laser parameters"
   ]
  },
  {
   "cell_type": "code",
   "execution_count": 11,
   "metadata": {
    "collapsed": false
   },
   "outputs": [
    {
     "data": {
      "text/markdown": [
       "|  | E = 1.5 GeV,B = 1.0 T | E = 1.5 GeV,B = 3.0 T | E = 3.0 GeV,B = 3.0 T |"
      ],
      "text/plain": [
       "<IPython.core.display.Markdown object>"
      ]
     },
     "metadata": {},
     "output_type": "display_data"
    },
    {
     "data": {
      "text/markdown": [
       "| :-: | :-: | :-: | :-: |"
      ],
      "text/plain": [
       "<IPython.core.display.Markdown object>"
      ]
     },
     "metadata": {},
     "output_type": "display_data"
    },
    {
     "data": {
      "text/markdown": [
       "| wavelength (nm) | 780 | 780 | 780 |"
      ],
      "text/plain": [
       "<IPython.core.display.Markdown object>"
      ]
     },
     "metadata": {},
     "output_type": "display_data"
    },
    {
     "data": {
      "text/markdown": [
       "| a_0 | 2.5 | 2.5 | 2.5 |"
      ],
      "text/plain": [
       "<IPython.core.display.Markdown object>"
      ]
     },
     "metadata": {},
     "output_type": "display_data"
    },
    {
     "data": {
      "text/markdown": [
       "| intensity (W/cm^2) | 1.40723928922e+19 | 1.40723928922e+19 | 1.40723928922e+19 |"
      ],
      "text/plain": [
       "<IPython.core.display.Markdown object>"
      ]
     },
     "metadata": {},
     "output_type": "display_data"
    }
   ],
   "source": [
    "for column in table:\n",
    "    laser_parameters = ParameterContainer()\n",
    "    laser_wavelength = laser_parameters.addParameter(\"wavelength\",780,\"nm\").value()\n",
    "    if electron_energy == 1.5:\n",
    "        a_0 = laser_parameters.addParameter(\"a_0\",2.1).value()\n",
    "    elif electron_energy == 3.0:\n",
    "        a_0 = laser_parameters.addParameter(\"a_0\",2.5).value()\n",
    "    else:\n",
    "        raise Exception(\"You need to pick an a_0 for your laser.\")\n",
    "    intensity = laser_parameters.addParameter(\"intensity\",a_0**2/(laser_wavelength*1e-3)**2/7.3e-19,\"W/cm^2\").value()\n",
    "\n",
    "    column.associateParameterContainer(\"Laser\",laser_parameters)\n",
    "    \n",
    "table.printTable(\"Laser\")"
   ]
  },
  {
   "cell_type": "markdown",
   "metadata": {},
   "source": [
    "# Plasma parameters"
   ]
  },
  {
   "cell_type": "code",
   "execution_count": 12,
   "metadata": {
    "collapsed": false
   },
   "outputs": [
    {
     "data": {
      "text/markdown": [
       "|  | E = 1.5 GeV,B = 1.0 T | E = 1.5 GeV,B = 3.0 T | E = 3.0 GeV,B = 3.0 T |"
      ],
      "text/plain": [
       "<IPython.core.display.Markdown object>"
      ]
     },
     "metadata": {},
     "output_type": "display_data"
    },
    {
     "data": {
      "text/markdown": [
       "| :-: | :-: | :-: | :-: |"
      ],
      "text/plain": [
       "<IPython.core.display.Markdown object>"
      ]
     },
     "metadata": {},
     "output_type": "display_data"
    },
    {
     "data": {
      "text/markdown": [
       "| plasma density (cm^-3) | 1.75e+17 | 1.75e+17 | 1.75e+17 |"
      ],
      "text/plain": [
       "<IPython.core.display.Markdown object>"
      ]
     },
     "metadata": {},
     "output_type": "display_data"
    },
    {
     "data": {
      "text/markdown": [
       "| Max E field (GV/cm) | 1.04582503317 | 1.04582503317 | 1.04582503317 |"
      ],
      "text/plain": [
       "<IPython.core.display.Markdown object>"
      ]
     },
     "metadata": {},
     "output_type": "display_data"
    },
    {
     "data": {
      "text/markdown": [
       "| plasma wavelength (mm) | 0.0755928946018 | 0.0755928946018 | 0.0755928946018 |"
      ],
      "text/plain": [
       "<IPython.core.display.Markdown object>"
      ]
     },
     "metadata": {},
     "output_type": "display_data"
    },
    {
     "data": {
      "text/markdown": [
       "| plasma frequency (rad/sec) | 2.4918368019e+13 | 2.4918368019e+13 | 2.4918368019e+13 |"
      ],
      "text/plain": [
       "<IPython.core.display.Markdown object>"
      ]
     },
     "metadata": {},
     "output_type": "display_data"
    },
    {
     "data": {
      "text/markdown": [
       "| bubble size (m) | 3.80453082601e-05 | 3.80453082601e-05 | 3.80453082601e-05 |"
      ],
      "text/plain": [
       "<IPython.core.display.Markdown object>"
      ]
     },
     "metadata": {},
     "output_type": "display_data"
    },
    {
     "data": {
      "text/markdown": [
       "| total laser power (TW) | 639.911682836 | 639.911682836 | 639.911682836 |"
      ],
      "text/plain": [
       "<IPython.core.display.Markdown object>"
      ]
     },
     "metadata": {},
     "output_type": "display_data"
    },
    {
     "data": {
      "text/markdown": [
       "| depletion length (cm) | 14.1998487089 | 14.1998487089 | 14.1998487089 |"
      ],
      "text/plain": [
       "<IPython.core.display.Markdown object>"
      ]
     },
     "metadata": {},
     "output_type": "display_data"
    },
    {
     "data": {
      "text/markdown": [
       "| dephasing length (cm) | 3.54996217723 | 3.54996217723 | 3.54996217723 |"
      ],
      "text/plain": [
       "<IPython.core.display.Markdown object>"
      ]
     },
     "metadata": {},
     "output_type": "display_data"
    },
    {
     "data": {
      "text/markdown": [
       "| maximum energy possible (GeV) | 3.71263931174 | 3.71263931174 | 3.71263931174 |"
      ],
      "text/plain": [
       "<IPython.core.display.Markdown object>"
      ]
     },
     "metadata": {},
     "output_type": "display_data"
    },
    {
     "data": {
      "text/markdown": [
       "| total plasma length (cm) | 2.8685486624 | 2.8685486624 | 2.8685486624 |"
      ],
      "text/plain": [
       "<IPython.core.display.Markdown object>"
      ]
     },
     "metadata": {},
     "output_type": "display_data"
    }
   ],
   "source": [
    "for column in table:\n",
    "    a_0 = column.parameter_containers[\"Laser\"].getParameter(\"a_0\").value()\n",
    "    \n",
    "    plasma_parameters = ParameterContainer()\n",
    "    if electron_energy == 1.5:\n",
    "        n = plasma_parameters.addParameter(\"plasma density\",3e17,\"cm^-3\").value()\n",
    "        E_max = plasma_parameters.addParameter(\"Max E field\",np.sqrt(n * a_0**3)/1e9,\"GV/cm\").value()\n",
    "    elif electron_energy == 3.0:\n",
    "        n = plasma_parameters.addParameter(\"plasma density\",1.75e17,\"cm^-3\").value()\n",
    "        E_max = plasma_parameters.addParameter(\"Max E field\",np.sqrt(n * a_0**2)/1e9,\"GV/cm\").value()\n",
    "    else:\n",
    "        raise Exception(\"You need to pick an a_0 for your laser.\")\n",
    "    \n",
    "    \n",
    "    plasma_wavelength = plasma_parameters.addParameter(\"plasma wavelength\",0.1*np.sqrt(1e17/n),\"mm\").value()\n",
    "    w_pe = plasma_parameters.addParameter(\"plasma frequency\",2.*np.pi*c/(plasma_wavelength*1e-3),\"rad/sec\").value()\n",
    "    R_b = plasma_parameters.addParameter(\"bubble size\",2*np.sqrt(a_0)*c/w_pe,\"m\").value()\n",
    "    laser_power = plasma_parameters.addParameter(\"total laser power\",np.pi*R_b**2*intensity*100.**2/1e12,\"TW\").value()\n",
    "    L_p = plasma_parameters.addParameter(\"depletion length\",0.5 / a_0 * plasma_wavelength**3 / (laser_wavelength*1e-6)**2/10,\"cm\").value()\n",
    "    L_d = plasma_parameters.addParameter(\"dephasing length\",L_p*a_0/10,\"cm\").value()\n",
    "    max_energy = plasma_parameters.addParameter(\"maximum energy possible\",E_max*np.min([L_p,L_d]),\"GeV\").value()\n",
    "    total_plasma_length = plasma_parameters.addParameter(\"total plasma length\",3. / E_max,\"cm\").value()\n",
    "\n",
    "    column.associateParameterContainer(\"Plasma\",plasma_parameters)\n",
    "    \n",
    "table.printTable(\"Plasma\")"
   ]
  },
  {
   "cell_type": "code",
   "execution_count": 13,
   "metadata": {
    "collapsed": false
   },
   "outputs": [
    {
     "name": "stdout",
     "output_type": "stream",
     "text": [
      "plasma density = 1.75e+17 cm^-3\n",
      "Max E field = 1.04582503317 GV/cm\n",
      "plasma wavelength = 0.0755928946018 mm\n",
      "plasma frequency = 2.4918368019e+13 rad/sec\n",
      "bubble size = 3.80453082601e-05 m\n",
      "total laser power = 639.911682836 TW\n",
      "depletion length = 14.1998487089 cm\n",
      "dephasing length = 3.54996217723 cm\n",
      "maximum energy possible = 3.71263931174 GeV\n",
      "total plasma length = 2.8685486624 cm\n",
      "critical power = 319.691792334 TW\n"
     ]
    }
   ],
   "source": [
    "plasma_parameters_2 = ParameterContainer()\n",
    "n = plasma_parameters_2.addParameter(\"plasma density\",1.75e17,\"cm^-3\").value()\n",
    "E_max = plasma_parameters_2.addParameter(\"Max E field\",np.sqrt(n * a_0**2)/1e9,\"GV/cm\").value()\n",
    "plasma_wavelength = plasma_parameters_2.addParameter(\"plasma wavelength\",0.1*np.sqrt(1e17/n),\"mm\").value()\n",
    "w_pe = plasma_parameters_2.addParameter(\"plasma frequency\",2.*np.pi*c/(plasma_wavelength*1e-3),\"rad/sec\").value()\n",
    "R_b = plasma_parameters_2.addParameter(\"bubble size\",2*np.sqrt(a_0)*c/w_pe,\"m\").value()\n",
    "laser_power = plasma_parameters_2.addParameter(\"total laser power\",np.pi*R_b**2*intensity*100.**2/1e12,\"TW\").value()\n",
    "L_p = plasma_parameters_2.addParameter(\"depletion length\",0.5 / a_0 * plasma_wavelength**3 / (laser_wavelength*1e-6)**2/10,\"cm\").value()\n",
    "L_d = plasma_parameters_2.addParameter(\"dephasing length\",L_p*a_0/10,\"cm\").value()\n",
    "max_energy = plasma_parameters_2.addParameter(\"maximum energy possible\",E_max*np.min([L_p,L_d]),\"GeV\").value()\n",
    "total_plasma_length = plasma_parameters_2.addParameter(\"total plasma length\",3. / E_max,\"cm\").value()\n",
    "critical_power = total_plasma_length = plasma_parameters_2.addParameter(\"critical power\",21.5*( a_0*R_b/(laser_wavelength*1e-9) )**2/1000,\"TW\").value()\n",
    "\n",
    "print plasma_parameters_2"
   ]
  },
  {
   "cell_type": "markdown",
   "metadata": {},
   "source": [
    "# Wiggler parameters"
   ]
  },
  {
   "cell_type": "code",
   "execution_count": 14,
   "metadata": {
    "collapsed": false
   },
   "outputs": [
    {
     "data": {
      "text/markdown": [
       "|  | E = 1.5 GeV,B = 1.0 T | E = 1.5 GeV,B = 3.0 T | E = 3.0 GeV,B = 3.0 T |"
      ],
      "text/plain": [
       "<IPython.core.display.Markdown object>"
      ]
     },
     "metadata": {},
     "output_type": "display_data"
    },
    {
     "data": {
      "text/markdown": [
       "| :-: | :-: | :-: | :-: |"
      ],
      "text/plain": [
       "<IPython.core.display.Markdown object>"
      ]
     },
     "metadata": {},
     "output_type": "display_data"
    },
    {
     "data": {
      "text/markdown": [
       "| photon energy (keV) | 10.0 | 10.0 | 10.0 |"
      ],
      "text/plain": [
       "<IPython.core.display.Markdown object>"
      ]
     },
     "metadata": {},
     "output_type": "display_data"
    },
    {
     "data": {
      "text/markdown": [
       "| wiggler periodicity (m) | 0.1 | 0.1 | 0.1 |"
      ],
      "text/plain": [
       "<IPython.core.display.Markdown object>"
      ]
     },
     "metadata": {},
     "output_type": "display_data"
    },
    {
     "data": {
      "text/markdown": [
       "| rho (m) | 5.98937460044 | 5.98937460044 | 5.98937460044 |"
      ],
      "text/plain": [
       "<IPython.core.display.Markdown object>"
      ]
     },
     "metadata": {},
     "output_type": "display_data"
    },
    {
     "data": {
      "text/markdown": [
       "| magnetic_field (T) | 5.56369485129 | 5.56369485129 | 5.56369485129 |"
      ],
      "text/plain": [
       "<IPython.core.display.Markdown object>"
      ]
     },
     "metadata": {},
     "output_type": "display_data"
    },
    {
     "data": {
      "text/markdown": [
       "| K () | 98.0211455643 | 98.0211455643 | 98.0211455643 |"
      ],
      "text/plain": [
       "<IPython.core.display.Markdown object>"
      ]
     },
     "metadata": {},
     "output_type": "display_data"
    },
    {
     "data": {
      "text/markdown": [
       "| photons per m per e (1/(m*electron)) | 7.15294858145 | 7.15294858145 | 7.15294858145 |"
      ],
      "text/plain": [
       "<IPython.core.display.Markdown object>"
      ]
     },
     "metadata": {},
     "output_type": "display_data"
    },
    {
     "data": {
      "text/markdown": [
       "| photons per m (1/m) | 446451938.481 | 446451938.481 | 312516356.937 |"
      ],
      "text/plain": [
       "<IPython.core.display.Markdown object>"
      ]
     },
     "metadata": {},
     "output_type": "display_data"
    },
    {
     "data": {
      "text/markdown": [
       "| energy per m (keV/m) | 71.5294858145 | 71.5294858145 | 71.5294858145 |"
      ],
      "text/plain": [
       "<IPython.core.display.Markdown object>"
      ]
     },
     "metadata": {},
     "output_type": "display_data"
    }
   ],
   "source": [
    "for column in table:\n",
    "    number_electrons = column.parameter_containers[\"Derived\"].getParameter(\"number electrons\").value()\n",
    "    wiggler_parameters = ParameterContainer()\n",
    "\n",
    "    if electron_energy == 1.0:\n",
    "        photon_energy = wiggler_parameters.addParameter(\"photon energy\",0.4,\"keV\").value()\n",
    "        wiggler_wavelength = wiggler_parameters.addParameter(\"wiggler periodicity\",1.5e-2,\"m\").value()\n",
    "    elif electron_energy == 3.0:\n",
    "        photon_energy = wiggler_parameters.addParameter(\"photon energy\",10.,\"keV\").value()\n",
    "        wiggler_wavelength = wiggler_parameters.addParameter(\"wiggler periodicity\",1.e-1,\"m\").value()\n",
    "    else:\n",
    "        raise Exception(\"You need to pick an arbitrary photon energy for your electon energy.\")\n",
    "    \n",
    "    wiggler_rho = wiggler_parameters.addParameter(\"rho\",h_bar*1.5*c*electron_gamma**3/(photon_energy*1e3),\"m\").value()\n",
    "    wiggler_B = wiggler_parameters.addParameter(\"magnetic_field\",3.33* electron_momentum / wiggler_rho,\"T\").value()\n",
    "    K = wiggler_parameters.addParameter(\"K\",electron_gamma*wiggler_wavelength/wiggler_rho,\"\").value()\n",
    "    photons_per_unit_length_per_electron = wiggler_parameters.addParameter(\"photons per m per e\",alpha*electron_gamma/wiggler_rho,\"1/(m*electron)\").value()\n",
    "    photons_per_unit_length = wiggler_parameters.addParameter(\"photons per m\",photons_per_unit_length_per_electron*number_electrons,\"1/m\").value()\n",
    "    energy_loss_per_m_per_electron = wiggler_parameters.addParameter(\"energy per m\",photons_per_unit_length_per_electron*photon_energy,\"keV/m\").value()\n",
    "\n",
    "    column.associateParameterContainer(\"Wiggler\",wiggler_parameters)\n",
    "    \n",
    "table.printTable(\"Wiggler\")"
   ]
  },
  {
   "cell_type": "code",
   "execution_count": 15,
   "metadata": {
    "collapsed": false
   },
   "outputs": [
    {
     "data": {
      "text/plain": [
       "'      1       '"
      ]
     },
     "execution_count": 15,
     "metadata": {},
     "output_type": "execute_result"
    }
   ],
   "source": [
    "'{:^14}'.format(1)"
   ]
  },
  {
   "cell_type": "code",
   "execution_count": 16,
   "metadata": {
    "collapsed": false
   },
   "outputs": [
    {
     "data": {
      "text/plain": [
       "'               1                '"
      ]
     },
     "execution_count": 16,
     "metadata": {},
     "output_type": "execute_result"
    }
   ],
   "source": [
    "width = 32\n",
    "string_format = '{:^'+str(width)+'}'\n",
    "string_format.format(1)"
   ]
  },
  {
   "cell_type": "code",
   "execution_count": 17,
   "metadata": {
    "collapsed": false
   },
   "outputs": [
    {
     "data": {
      "text/plain": [
       "'String string thing and float 3.544'"
      ]
     },
     "execution_count": 17,
     "metadata": {},
     "output_type": "execute_result"
    }
   ],
   "source": [
    "\"String %s and float %.3f\" % (\"string thing\", 3.54398187)"
   ]
  },
  {
   "cell_type": "markdown",
   "metadata": {
    "collapsed": true
   },
   "source": [
    "Tables | Are | Cool |\n",
    "------------- |:-------------:| -----:|\n",
    "col 3 is | right-aligned | $1600 |\n",
    "col 2 is | centered |$12 |\n",
    "zebra stripes | are neat | $1 |"
   ]
  },
  {
   "cell_type": "code",
   "execution_count": null,
   "metadata": {
    "collapsed": true
   },
   "outputs": [],
   "source": []
  },
  {
   "cell_type": "code",
   "execution_count": null,
   "metadata": {
    "collapsed": true
   },
   "outputs": [],
   "source": []
  }
 ],
 "metadata": {
  "kernelspec": {
   "display_name": "Python 2",
   "language": "python",
   "name": "python2"
  },
  "language_info": {
   "codemirror_mode": {
    "name": "ipython",
    "version": 2
   },
   "file_extension": ".py",
   "mimetype": "text/x-python",
   "name": "python",
   "nbconvert_exporter": "python",
   "pygments_lexer": "ipython2",
   "version": "2.7.11"
  }
 },
 "nbformat": 4,
 "nbformat_minor": 0
}
